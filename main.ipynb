{
 "cells": [
  {
   "cell_type": "code",
   "execution_count": 6,
   "metadata": {},
   "outputs": [],
   "source": [
    "from sklearn.feature_extraction.text import TfidfVectorizer\n",
    "import os"
   ]
  },
  {
   "cell_type": "code",
   "execution_count": 4,
   "metadata": {},
   "outputs": [],
   "source": [
    "user = open(\"test.txt\", \"r\").read()"
   ]
  },
  {
   "cell_type": "code",
   "execution_count": 5,
   "metadata": {},
   "outputs": [],
   "source": [
    "file_loc = [\"romance\", \"action\", \"comedy\"]"
   ]
  },
  {
   "cell_type": "code",
   "execution_count": 11,
   "metadata": {},
   "outputs": [],
   "source": [
    "doc = []\n",
    "raw_data = \"\"\n",
    "for i in file_loc:\n",
    "    for j in os.listdir(i):\n",
    "        temp = open(i+\"/\"+j, \"r\").read()\n",
    "        doc.append([temp, i])\n",
    "        raw_data += temp\n"
   ]
  },
  {
   "cell_type": "code",
   "execution_count": 12,
   "metadata": {},
   "outputs": [
    {
     "data": {
      "text/plain": [
       "[['Nikola Tesla, (born July 9/10, 1856, Smiljan, Austrian Empire [now in Croatia]—died January 7, 1943, New York, New York, U.S.), Serbian American inventor and engineer who discovered and patented the rotating magnetic field, the basis of most alternating-current machinery. He also developed the three-phase system of electric power transmission. He immigrated to the United States in 1884 and sold the patent rights to his system of alternating-current dynamos, transformers, and motors to George Westinghouse. In 1891 he invented the Tesla coil, an induction coil widely used in radio technology.\\nTesla was from a family of Serbian origin. His father was an Orthodox priest; his mother was unschooled but highly intelligent. As he matured, he displayed remarkable imagination and creativity as well as a poetic touch.\\n\\nTraining for an engineering career, he attended the Technical University at Graz, Austria, and the University of Prague. At Graz he first saw the Gramme dynamo, which operated as a generator and, when reversed, became an electric motor, and he conceived a way to use alternating current to advantage. Later, at Budapest, he visualized the principle of the rotating magnetic field and developed plans for an induction motor that would become his first step toward the successful utilization of alternating current. In 1882 Tesla went to work in Paris for the Continental Edison Company, and, while on assignment to Strassburg in 1883, he constructed, after work hours, his first induction motor. Tesla sailed for America in 1884, arriving in New York with four cents in his pocket, a few of his own poems, and calculations for a flying machine. He first found employment with Thomas Edison, but the two inventors were far apart in background and methods, and their separation was inevitable.\\n\\nIn May 1888 George Westinghouse, head of the Westinghouse Electric Company in Pittsburgh, bought the patent rights to Tesla’s polyphase system of alternating-current dynamos, transformers, and motors. The transaction precipitated a titanic power struggle between Edison’s direct-current systems and the Tesla-Westinghouse alternating-current approach, which eventually won out.\\n\\nTesla soon established his own laboratory, where his inventive mind could be given free rein. He experimented with shadowgraphs similar to those that later were to be used by Wilhelm Röntgen when he discovered X-rays in 1895. Tesla’s countless experiments included work on a carbon button lamp, on the power of electrical resonance, and on various types of lighting.\\n\\nIn order to allay fears of alternating currents, Tesla gave exhibitions in his laboratory in which he lit lamps by allowing electricity to flow through his body. He was often invited to lecture at home and abroad. The Tesla coil, which he invented in 1891, is widely used today in radio and television sets and other electronic equipment. That year also marked the date of Tesla’s U.S. citizenship.\\n\\nWestinghouse used Tesla’s alternating current system to light the World’s Columbian Exposition at Chicago in 1893. This success was a factor in their winning the contract to install the first power machinery at Niagara Falls, which bore Tesla’s name and patent numbers. The project carried power to Buffalo by 1896.\\n\\nIn 1898 Tesla announced his invention of a teleautomatic boat guided by remote control. When skepticism was voiced, Tesla proved his claims for it before a crowd in Madison Square Garden.\\n\\nIn Colorado Springs, Colorado, where he stayed from May 1899 until early 1900, Tesla made what he regarded as his most important discovery—terrestrial stationary waves. By this discovery he proved that Earth could be used as a conductor and made to resonate at a certain electrical frequency. He also lit 200 lamps without wires from a distance of 40 km (25 miles) and created man-made lightning, producing flashes measuring 41 metres (135 feet). At one time he was certain he had received signals from another planet in his Colorado laboratory, a claim that was met with derision in some scientific journals.\\n\\n',\n",
       "  'romance'],\n",
       " ['Born in Germany 1879, Albert Einstein is one of the most celebrated scientists of the Twentieth Century. His theories on relativity laid the framework for a new branch of physics, and Einstein’s E = mc2 on mass-energy equivalence is one of the most famous formulas in the world. In 1921, he was awarded the Nobel Prize in Physics for his contributions to theoretical physics and the evolution of Quantum Theory.\\n\\nEinstein is also well known as an original free-thinker, speaking on a range of humanitarian and global issues. After contributing to the theoretical development of nuclear physics and encouraging F.D. Roosevelt to start the Manhattan Project, he later spoke out against the use of nuclear weapons.\\n\\nBorn in Germany to Jewish parents, Einstein settled in Switzerland and then, after Hitler’s rise to power, the United States. Einstein was a truly global man and one of the undisputed genius’ of the Twentieth Century.\\n\\nEarly life Albert Einstein\\n\\nEinstein was born 14 March 1879, in Ulm the German Empire. His parents were working-class (salesman/engineer) and non-observant Jews. Aged 15, the family moved to Milan, Italy where his father hoped Albert would become a mechanical engineer. However, despite Einstein’s intellect and thirst for knowledge, his early academic reports suggested anything but a glittering career in academia. His teachers found him dim and slow to learn. Part of the problem was that Albert expressed no interest in learning languages and the learning by rote that was popular at the time.',\n",
       "  'action'],\n",
       " ['Darwin’s theory of evolution declared that species survived through a process called \"natural selection,\" where those that successfully adapted, or evolved, to meet the changing requirements of their natural habitat thrived, while those that failed to evolve and reproduce died off. \\n\\nThrough his observations and studies of birds, plants and fossils, Darwin noticed similarities among species all over the globe, along with variations based on specific locations, leading him to believe that the species we know today had gradually evolved from common ancestors. Darwin’s theory of evolution and the process of natural selection later became known simply as “Darwinism.”\\n\\nAt the time, other naturalists believed that all species either came into being at the start of the world or were created over the course of natural history. In either case, they believed species remained much the same throughout time.\\n\\n\\'Origin of Species\\'\\nIn 1858, after years of scientific investigation, Darwin publicly introduced his revolutionary theory of evolution in a letter read at a meeting of the Linnean Society. On November 24, 1859, he published a detailed explanation of his theory in his best-known work, On the Origin of Species by Means of Natural Selection.\\n\\nIn the next century, DNA studies provided scientific evidence for Darwin’s theory of evolution. However, controversy surrounding its conflict with Creationism — the religious view that all of nature was born of God — still abounds today.\\n\\nWhen Was Charles Darwin Born?\\nCharles Darwin was born on February 12, 1809, in the tiny merchant town of Shrewsbury, England.\\n\\nFamily\\nA child of wealth and privilege who loved to explore nature, Darwin was the second youngest of six kids. Darwin came from a long line of scientists: His father, Dr. R.W. Darwin, was a medical doctor, and his grandfather, Dr. Erasmus Darwin, was a renowned botanist. Darwin’s mother, Susanna, died when he was only eight years old.\\n\\nEducation\\nIn October 1825, at age 16, Darwin enrolled at University of Edinburgh along with his brother Erasmus. Two years later, he became a student at Christ\\'s College in Cambridge. \\n\\nHis father hoped he would follow in his footsteps and become a medical doctor, but the sight of blood made Darwin queasy. His father suggested he study to become a parson instead, but Darwin was far more inclined to study natural history.\\n\\nVoyage on the HMS Beagle\\nWhile Darwin was at Christ\\'s College, botany professor John Stevens Henslow became his mentor. After Darwin graduated Christ\\'s College with a bachelor of arts degree in 1831, Henslow recommended him for a naturalist’s position aboard the HMS Beagle. \\n\\nThe ship, commanded by Captain Robert FitzRoy, was to take a five-year survey trip around the world. The voyage would prove the opportunity of a lifetime for the budding young naturalist.\\n\\nOn December 27, 1831, the HMS Beagle launched its voyage around the world with Darwin aboard. Over the course of the trip, Darwin collected a variety of natural specimens, including birds, plants and fossils. \\n\\nThrough hands-on research and experimentation, he had the unique opportunity to closely observe principles of botany, geology and zoology. The Pacific Islands and Galapagos Archipelago were of particular interest to Darwin, as was South America.\\n\\nUpon his return to England in 1836, Darwin began to write up his findings in the Journal of Researches, published as part of Captain FitzRoy\\'s larger narrative and later edited into the Zoology of the Voyage of the Beagle. \\n\\nThe trip had a monumental effect on Darwin’s view of natural history. He began to develop a revolutionary theory about the origin of living beings that was contrary to the popular view of other naturalists at the time.\\n\\nDeath\\nFollowing a lifetime of devout research, Charles Darwin died at his family home, Down House, in London, on April 19, 1882. He was buried at Westminster Abbey.\\n\\nMore than a century later, Yale ornithologist Richard Brum sought to revive Darwin\\'s lesser-known theory on sexual selection in The Evolution of Beauty. While Darwin\\'s original attempts to cite female aesthetic mating choices as a driving force of evolution was criticized, Brum delivered an effective argument via his expertise in birds, earning selection to The New York Times\\' list of 10 best books of 2017.\\n\\n© 2019 Bio and the Bio logo are registered trademarks of A&E Television Networks, LLC.\\n',\n",
       "  'comedy']]"
      ]
     },
     "execution_count": 12,
     "metadata": {},
     "output_type": "execute_result"
    }
   ],
   "source": [
    "doc"
   ]
  },
  {
   "cell_type": "code",
   "execution_count": 13,
   "metadata": {},
   "outputs": [
    {
     "data": {
      "text/plain": [
       "'Nikola Tesla, (born July 9/10, 1856, Smiljan, Austrian Empire [now in Croatia]—died January 7, 1943, New York, New York, U.S.), Serbian American inventor and engineer who discovered and patented the rotating magnetic field, the basis of most alternating-current machinery. He also developed the three-phase system of electric power transmission. He immigrated to the United States in 1884 and sold the patent rights to his system of alternating-current dynamos, transformers, and motors to George Westinghouse. In 1891 he invented the Tesla coil, an induction coil widely used in radio technology.\\nTesla was from a family of Serbian origin. His father was an Orthodox priest; his mother was unschooled but highly intelligent. As he matured, he displayed remarkable imagination and creativity as well as a poetic touch.\\n\\nTraining for an engineering career, he attended the Technical University at Graz, Austria, and the University of Prague. At Graz he first saw the Gramme dynamo, which operated as a generator and, when reversed, became an electric motor, and he conceived a way to use alternating current to advantage. Later, at Budapest, he visualized the principle of the rotating magnetic field and developed plans for an induction motor that would become his first step toward the successful utilization of alternating current. In 1882 Tesla went to work in Paris for the Continental Edison Company, and, while on assignment to Strassburg in 1883, he constructed, after work hours, his first induction motor. Tesla sailed for America in 1884, arriving in New York with four cents in his pocket, a few of his own poems, and calculations for a flying machine. He first found employment with Thomas Edison, but the two inventors were far apart in background and methods, and their separation was inevitable.\\n\\nIn May 1888 George Westinghouse, head of the Westinghouse Electric Company in Pittsburgh, bought the patent rights to Tesla’s polyphase system of alternating-current dynamos, transformers, and motors. The transaction precipitated a titanic power struggle between Edison’s direct-current systems and the Tesla-Westinghouse alternating-current approach, which eventually won out.\\n\\nTesla soon established his own laboratory, where his inventive mind could be given free rein. He experimented with shadowgraphs similar to those that later were to be used by Wilhelm Röntgen when he discovered X-rays in 1895. Tesla’s countless experiments included work on a carbon button lamp, on the power of electrical resonance, and on various types of lighting.\\n\\nIn order to allay fears of alternating currents, Tesla gave exhibitions in his laboratory in which he lit lamps by allowing electricity to flow through his body. He was often invited to lecture at home and abroad. The Tesla coil, which he invented in 1891, is widely used today in radio and television sets and other electronic equipment. That year also marked the date of Tesla’s U.S. citizenship.\\n\\nWestinghouse used Tesla’s alternating current system to light the World’s Columbian Exposition at Chicago in 1893. This success was a factor in their winning the contract to install the first power machinery at Niagara Falls, which bore Tesla’s name and patent numbers. The project carried power to Buffalo by 1896.\\n\\nIn 1898 Tesla announced his invention of a teleautomatic boat guided by remote control. When skepticism was voiced, Tesla proved his claims for it before a crowd in Madison Square Garden.\\n\\nIn Colorado Springs, Colorado, where he stayed from May 1899 until early 1900, Tesla made what he regarded as his most important discovery—terrestrial stationary waves. By this discovery he proved that Earth could be used as a conductor and made to resonate at a certain electrical frequency. He also lit 200 lamps without wires from a distance of 40 km (25 miles) and created man-made lightning, producing flashes measuring 41 metres (135 feet). At one time he was certain he had received signals from another planet in his Colorado laboratory, a claim that was met with derision in some scientific journals.\\n\\nBorn in Germany 1879, Albert Einstein is one of the most celebrated scientists of the Twentieth Century. His theories on relativity laid the framework for a new branch of physics, and Einstein’s E = mc2 on mass-energy equivalence is one of the most famous formulas in the world. In 1921, he was awarded the Nobel Prize in Physics for his contributions to theoretical physics and the evolution of Quantum Theory.\\n\\nEinstein is also well known as an original free-thinker, speaking on a range of humanitarian and global issues. After contributing to the theoretical development of nuclear physics and encouraging F.D. Roosevelt to start the Manhattan Project, he later spoke out against the use of nuclear weapons.\\n\\nBorn in Germany to Jewish parents, Einstein settled in Switzerland and then, after Hitler’s rise to power, the United States. Einstein was a truly global man and one of the undisputed genius’ of the Twentieth Century.\\n\\nEarly life Albert Einstein\\n\\nEinstein was born 14 March 1879, in Ulm the German Empire. His parents were working-class (salesman/engineer) and non-observant Jews. Aged 15, the family moved to Milan, Italy where his father hoped Albert would become a mechanical engineer. However, despite Einstein’s intellect and thirst for knowledge, his early academic reports suggested anything but a glittering career in academia. His teachers found him dim and slow to learn. Part of the problem was that Albert expressed no interest in learning languages and the learning by rote that was popular at the time.Darwin’s theory of evolution declared that species survived through a process called \"natural selection,\" where those that successfully adapted, or evolved, to meet the changing requirements of their natural habitat thrived, while those that failed to evolve and reproduce died off. \\n\\nThrough his observations and studies of birds, plants and fossils, Darwin noticed similarities among species all over the globe, along with variations based on specific locations, leading him to believe that the species we know today had gradually evolved from common ancestors. Darwin’s theory of evolution and the process of natural selection later became known simply as “Darwinism.”\\n\\nAt the time, other naturalists believed that all species either came into being at the start of the world or were created over the course of natural history. In either case, they believed species remained much the same throughout time.\\n\\n\\'Origin of Species\\'\\nIn 1858, after years of scientific investigation, Darwin publicly introduced his revolutionary theory of evolution in a letter read at a meeting of the Linnean Society. On November 24, 1859, he published a detailed explanation of his theory in his best-known work, On the Origin of Species by Means of Natural Selection.\\n\\nIn the next century, DNA studies provided scientific evidence for Darwin’s theory of evolution. However, controversy surrounding its conflict with Creationism — the religious view that all of nature was born of God — still abounds today.\\n\\nWhen Was Charles Darwin Born?\\nCharles Darwin was born on February 12, 1809, in the tiny merchant town of Shrewsbury, England.\\n\\nFamily\\nA child of wealth and privilege who loved to explore nature, Darwin was the second youngest of six kids. Darwin came from a long line of scientists: His father, Dr. R.W. Darwin, was a medical doctor, and his grandfather, Dr. Erasmus Darwin, was a renowned botanist. Darwin’s mother, Susanna, died when he was only eight years old.\\n\\nEducation\\nIn October 1825, at age 16, Darwin enrolled at University of Edinburgh along with his brother Erasmus. Two years later, he became a student at Christ\\'s College in Cambridge. \\n\\nHis father hoped he would follow in his footsteps and become a medical doctor, but the sight of blood made Darwin queasy. His father suggested he study to become a parson instead, but Darwin was far more inclined to study natural history.\\n\\nVoyage on the HMS Beagle\\nWhile Darwin was at Christ\\'s College, botany professor John Stevens Henslow became his mentor. After Darwin graduated Christ\\'s College with a bachelor of arts degree in 1831, Henslow recommended him for a naturalist’s position aboard the HMS Beagle. \\n\\nThe ship, commanded by Captain Robert FitzRoy, was to take a five-year survey trip around the world. The voyage would prove the opportunity of a lifetime for the budding young naturalist.\\n\\nOn December 27, 1831, the HMS Beagle launched its voyage around the world with Darwin aboard. Over the course of the trip, Darwin collected a variety of natural specimens, including birds, plants and fossils. \\n\\nThrough hands-on research and experimentation, he had the unique opportunity to closely observe principles of botany, geology and zoology. The Pacific Islands and Galapagos Archipelago were of particular interest to Darwin, as was South America.\\n\\nUpon his return to England in 1836, Darwin began to write up his findings in the Journal of Researches, published as part of Captain FitzRoy\\'s larger narrative and later edited into the Zoology of the Voyage of the Beagle. \\n\\nThe trip had a monumental effect on Darwin’s view of natural history. He began to develop a revolutionary theory about the origin of living beings that was contrary to the popular view of other naturalists at the time.\\n\\nDeath\\nFollowing a lifetime of devout research, Charles Darwin died at his family home, Down House, in London, on April 19, 1882. He was buried at Westminster Abbey.\\n\\nMore than a century later, Yale ornithologist Richard Brum sought to revive Darwin\\'s lesser-known theory on sexual selection in The Evolution of Beauty. While Darwin\\'s original attempts to cite female aesthetic mating choices as a driving force of evolution was criticized, Brum delivered an effective argument via his expertise in birds, earning selection to The New York Times\\' list of 10 best books of 2017.\\n\\n© 2019 Bio and the Bio logo are registered trademarks of A&E Television Networks, LLC.\\n'"
      ]
     },
     "execution_count": 13,
     "metadata": {},
     "output_type": "execute_result"
    }
   ],
   "source": [
    "raw_data"
   ]
  },
  {
   "cell_type": "code",
   "execution_count": 14,
   "metadata": {},
   "outputs": [],
   "source": [
    "vecotorizer = TfidfVectorizer()"
   ]
  },
  {
   "cell_type": "code",
   "execution_count": 17,
   "metadata": {},
   "outputs": [
    {
     "data": {
      "text/plain": [
       "TfidfVectorizer(analyzer='word', binary=False, decode_error='strict',\n",
       "                dtype=<class 'numpy.float64'>, encoding='utf-8',\n",
       "                input='content', lowercase=True, max_df=1.0, max_features=None,\n",
       "                min_df=1, ngram_range=(1, 1), norm='l2', preprocessor=None,\n",
       "                smooth_idf=True, stop_words=None, strip_accents=None,\n",
       "                sublinear_tf=False, token_pattern='(?u)\\\\b\\\\w\\\\w+\\\\b',\n",
       "                tokenizer=None, use_idf=True, vocabulary=None)"
      ]
     },
     "execution_count": 17,
     "metadata": {},
     "output_type": "execute_result"
    }
   ],
   "source": [
    "vecotorizer.fit([raw_data])"
   ]
  },
  {
   "cell_type": "code",
   "execution_count": 20,
   "metadata": {},
   "outputs": [],
   "source": [
    "import numpy as np\n",
    "data = np.array(doc)"
   ]
  },
  {
   "cell_type": "code",
   "execution_count": 23,
   "metadata": {},
   "outputs": [],
   "source": [
    "import pandas as pd\n",
    "data = pd.DataFrame({\"feature\": data[:,0], \"label\": data[:,1]})"
   ]
  },
  {
   "cell_type": "code",
   "execution_count": 24,
   "metadata": {},
   "outputs": [
    {
     "data": {
      "text/html": [
       "<div>\n",
       "<style scoped>\n",
       "    .dataframe tbody tr th:only-of-type {\n",
       "        vertical-align: middle;\n",
       "    }\n",
       "\n",
       "    .dataframe tbody tr th {\n",
       "        vertical-align: top;\n",
       "    }\n",
       "\n",
       "    .dataframe thead th {\n",
       "        text-align: right;\n",
       "    }\n",
       "</style>\n",
       "<table border=\"1\" class=\"dataframe\">\n",
       "  <thead>\n",
       "    <tr style=\"text-align: right;\">\n",
       "      <th></th>\n",
       "      <th>feature</th>\n",
       "      <th>label</th>\n",
       "    </tr>\n",
       "  </thead>\n",
       "  <tbody>\n",
       "    <tr>\n",
       "      <th>0</th>\n",
       "      <td>Nikola Tesla, (born July 9/10, 1856, Smiljan, ...</td>\n",
       "      <td>romance</td>\n",
       "    </tr>\n",
       "    <tr>\n",
       "      <th>1</th>\n",
       "      <td>Born in Germany 1879, Albert Einstein is one o...</td>\n",
       "      <td>action</td>\n",
       "    </tr>\n",
       "    <tr>\n",
       "      <th>2</th>\n",
       "      <td>Darwin’s theory of evolution declared that spe...</td>\n",
       "      <td>comedy</td>\n",
       "    </tr>\n",
       "  </tbody>\n",
       "</table>\n",
       "</div>"
      ],
      "text/plain": [
       "                                             feature    label\n",
       "0  Nikola Tesla, (born July 9/10, 1856, Smiljan, ...  romance\n",
       "1  Born in Germany 1879, Albert Einstein is one o...   action\n",
       "2  Darwin’s theory of evolution declared that spe...   comedy"
      ]
     },
     "execution_count": 24,
     "metadata": {},
     "output_type": "execute_result"
    }
   ],
   "source": [
    "data.head()"
   ]
  },
  {
   "cell_type": "code",
   "execution_count": 42,
   "metadata": {},
   "outputs": [],
   "source": [
    "en = data[\"label\"].unique()"
   ]
  },
  {
   "cell_type": "code",
   "execution_count": 47,
   "metadata": {},
   "outputs": [],
   "source": [
    "record = {\"romance\":0, \"action\":1, \"comedy\":2}"
   ]
  },
  {
   "cell_type": "code",
   "execution_count": 48,
   "metadata": {},
   "outputs": [],
   "source": [
    "# en = en.values\n",
    "data[\"label\"].replace(record.keys(), record.values(), inplace = True)"
   ]
  },
  {
   "cell_type": "code",
   "execution_count": 49,
   "metadata": {},
   "outputs": [
    {
     "data": {
      "text/html": [
       "<div>\n",
       "<style scoped>\n",
       "    .dataframe tbody tr th:only-of-type {\n",
       "        vertical-align: middle;\n",
       "    }\n",
       "\n",
       "    .dataframe tbody tr th {\n",
       "        vertical-align: top;\n",
       "    }\n",
       "\n",
       "    .dataframe thead th {\n",
       "        text-align: right;\n",
       "    }\n",
       "</style>\n",
       "<table border=\"1\" class=\"dataframe\">\n",
       "  <thead>\n",
       "    <tr style=\"text-align: right;\">\n",
       "      <th></th>\n",
       "      <th>feature</th>\n",
       "      <th>label</th>\n",
       "    </tr>\n",
       "  </thead>\n",
       "  <tbody>\n",
       "    <tr>\n",
       "      <th>0</th>\n",
       "      <td>Nikola Tesla, (born July 9/10, 1856, Smiljan, ...</td>\n",
       "      <td>0</td>\n",
       "    </tr>\n",
       "    <tr>\n",
       "      <th>1</th>\n",
       "      <td>Born in Germany 1879, Albert Einstein is one o...</td>\n",
       "      <td>1</td>\n",
       "    </tr>\n",
       "    <tr>\n",
       "      <th>2</th>\n",
       "      <td>Darwin’s theory of evolution declared that spe...</td>\n",
       "      <td>2</td>\n",
       "    </tr>\n",
       "  </tbody>\n",
       "</table>\n",
       "</div>"
      ],
      "text/plain": [
       "                                             feature  label\n",
       "0  Nikola Tesla, (born July 9/10, 1856, Smiljan, ...      0\n",
       "1  Born in Germany 1879, Albert Einstein is one o...      1\n",
       "2  Darwin’s theory of evolution declared that spe...      2"
      ]
     },
     "execution_count": 49,
     "metadata": {},
     "output_type": "execute_result"
    }
   ],
   "source": [
    "data.head()"
   ]
  },
  {
   "cell_type": "code",
   "execution_count": 50,
   "metadata": {},
   "outputs": [],
   "source": [
    "train = vecotorizer.transform(data[\"feature\"]).toarray()"
   ]
  },
  {
   "cell_type": "code",
   "execution_count": 51,
   "metadata": {},
   "outputs": [],
   "source": [
    "query = vecotorizer.transform([user]).toarray()"
   ]
  },
  {
   "cell_type": "code",
   "execution_count": 54,
   "metadata": {},
   "outputs": [
    {
     "data": {
      "text/plain": [
       "NearestNeighbors(algorithm='auto', leaf_size=30, metric='minkowski',\n",
       "                 metric_params=None, n_jobs=None, n_neighbors=2, p=2,\n",
       "                 radius=1.0)"
      ]
     },
     "execution_count": 54,
     "metadata": {},
     "output_type": "execute_result"
    }
   ],
   "source": [
    "from sklearn.neighbors import NearestNeighbors\n",
    "clf_euclidean = NearestNeighbors(n_neighbors=2)\n",
    "clf_euclidean.fit(train, data[\"label\"])"
   ]
  },
  {
   "cell_type": "code",
   "execution_count": 57,
   "metadata": {},
   "outputs": [],
   "source": [
    "ep = clf_euclidean.kneighbors(query)"
   ]
  },
  {
   "cell_type": "code",
   "execution_count": 56,
   "metadata": {},
   "outputs": [
    {
     "data": {
      "text/plain": [
       "0    0\n",
       "1    1\n",
       "2    2\n",
       "Name: label, dtype: int64"
      ]
     },
     "execution_count": 56,
     "metadata": {},
     "output_type": "execute_result"
    }
   ],
   "source": [
    "data[\"label\"]"
   ]
  },
  {
   "cell_type": "code",
   "execution_count": 60,
   "metadata": {},
   "outputs": [
    {
     "data": {
      "text/plain": [
       "array([[0, 1]], dtype=int64)"
      ]
     },
     "execution_count": 60,
     "metadata": {},
     "output_type": "execute_result"
    }
   ],
   "source": [
    "ep[1]"
   ]
  },
  {
   "cell_type": "code",
   "execution_count": 62,
   "metadata": {},
   "outputs": [
    {
     "data": {
      "text/plain": [
       "NearestNeighbors(algorithm='auto', leaf_size=30, metric='cosine',\n",
       "                 metric_params=None, n_jobs=None, n_neighbors=2, p=2,\n",
       "                 radius=1.0)"
      ]
     },
     "execution_count": 62,
     "metadata": {},
     "output_type": "execute_result"
    }
   ],
   "source": [
    "from sklearn.neighbors import NearestNeighbors\n",
    "clf_cosine = NearestNeighbors(n_neighbors=2,metric= \"cosine\")\n",
    "clf_cosine.fit(train, data[\"label\"])"
   ]
  },
  {
   "cell_type": "code",
   "execution_count": 63,
   "metadata": {},
   "outputs": [],
   "source": [
    "ep2 = clf_cosine.kneighbors(query)"
   ]
  },
  {
   "cell_type": "code",
   "execution_count": 64,
   "metadata": {},
   "outputs": [
    {
     "data": {
      "text/plain": [
       "(array([[0.17140568, 0.28726812]]), array([[0, 1]], dtype=int64))"
      ]
     },
     "execution_count": 64,
     "metadata": {},
     "output_type": "execute_result"
    }
   ],
   "source": [
    "ep2"
   ]
  },
  {
   "cell_type": "code",
   "execution_count": 65,
   "metadata": {},
   "outputs": [
    {
     "data": {
      "text/plain": [
       "NearestNeighbors(algorithm='auto', leaf_size=30, metric='jaccard',\n",
       "                 metric_params=None, n_jobs=None, n_neighbors=2, p=2,\n",
       "                 radius=1.0)"
      ]
     },
     "execution_count": 65,
     "metadata": {},
     "output_type": "execute_result"
    }
   ],
   "source": [
    "from sklearn.neighbors import NearestNeighbors\n",
    "clf_jaccard = NearestNeighbors(n_neighbors=2, metric= \"jaccard\")\n",
    "clf_jaccard.fit(train, data[\"label\"])"
   ]
  },
  {
   "cell_type": "code",
   "execution_count": 66,
   "metadata": {},
   "outputs": [],
   "source": [
    "ep3 = clf_jaccard.kneighbors(query)"
   ]
  },
  {
   "cell_type": "code",
   "execution_count": 67,
   "metadata": {},
   "outputs": [
    {
     "data": {
      "text/plain": [
       "(array([[0.73295455, 0.82727273]]), array([[0, 1]], dtype=int64))"
      ]
     },
     "execution_count": 67,
     "metadata": {},
     "output_type": "execute_result"
    }
   ],
   "source": [
    "ep3"
   ]
  },
  {
   "cell_type": "code",
   "execution_count": 84,
   "metadata": {},
   "outputs": [],
   "source": [
    "ans = [ep[1][0][0], ep2[1][0][0], ep3[1][0][0]]\n",
    "sim = [ep[0][0][0], ep2[0][0][0], ep3[0][0][0]]"
   ]
  },
  {
   "cell_type": "code",
   "execution_count": 85,
   "metadata": {},
   "outputs": [
    {
     "data": {
      "text/plain": [
       "[0, 0, 0]"
      ]
     },
     "execution_count": 85,
     "metadata": {},
     "output_type": "execute_result"
    }
   ],
   "source": [
    "ans"
   ]
  },
  {
   "cell_type": "code",
   "execution_count": 86,
   "metadata": {},
   "outputs": [
    {
     "data": {
      "text/plain": [
       "[0.5855009551992508, 0.17140568426961722, 0.7329545454545454]"
      ]
     },
     "execution_count": 86,
     "metadata": {},
     "output_type": "execute_result"
    }
   ],
   "source": [
    "sim"
   ]
  },
  {
   "cell_type": "code",
   "execution_count": 89,
   "metadata": {},
   "outputs": [],
   "source": [
    "def answer(ans):\n",
    "    count_dic = ans[0]\n",
    "    cnt = ans.count(ans[0])\n",
    "    idx = 0\n",
    "    for i in ans:\n",
    "        if cnt<ans.count(i):\n",
    "            count_dic = i\n",
    "            cnt = ans.count(i)\n",
    "    return count_dic\n"
   ]
  },
  {
   "cell_type": "code",
   "execution_count": 90,
   "metadata": {},
   "outputs": [
    {
     "data": {
      "text/plain": [
       "0"
      ]
     },
     "execution_count": 90,
     "metadata": {},
     "output_type": "execute_result"
    }
   ],
   "source": [
    "answer(ans)"
   ]
  },
  {
   "cell_type": "code",
   "execution_count": 93,
   "metadata": {},
   "outputs": [],
   "source": [
    "rev_record ={i:j for j,i in record.items()}"
   ]
  },
  {
   "cell_type": "code",
   "execution_count": 94,
   "metadata": {},
   "outputs": [
    {
     "data": {
      "text/plain": [
       "{0: 'romance', 1: 'action', 2: 'comedy'}"
      ]
     },
     "execution_count": 94,
     "metadata": {},
     "output_type": "execute_result"
    }
   ],
   "source": [
    "rev_record"
   ]
  },
  {
   "cell_type": "code",
   "execution_count": null,
   "metadata": {},
   "outputs": [],
   "source": []
  }
 ],
 "metadata": {
  "file_extension": ".py",
  "kernelspec": {
   "display_name": "Python 3",
   "language": "python",
   "name": "python3"
  },
  "language_info": {
   "codemirror_mode": {
    "name": "ipython",
    "version": 3
   },
   "file_extension": ".py",
   "mimetype": "text/x-python",
   "name": "python",
   "nbconvert_exporter": "python",
   "pygments_lexer": "ipython3",
   "version": "3.6.8"
  },
  "mimetype": "text/x-python",
  "name": "python",
  "npconvert_exporter": "python",
  "pygments_lexer": "ipython3",
  "version": 3
 },
 "nbformat": 4,
 "nbformat_minor": 2
}
